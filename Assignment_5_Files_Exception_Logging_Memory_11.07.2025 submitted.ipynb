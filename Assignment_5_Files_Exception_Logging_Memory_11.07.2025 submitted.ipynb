{
  "cells": [
    {
      "cell_type": "markdown",
      "metadata": {
        "id": "KGKVQAtLICet"
      },
      "source": [
        "# Files, Exception Handling, Logging, and Memory Management Assignment\n",
        "\n",
        "Complete solutions to theory and practical questions."
      ],
      "id": "KGKVQAtLICet"
    },
    {
      "cell_type": "markdown",
      "metadata": {
        "id": "QHQeEBStICew"
      },
      "source": [
        "### 1. What is the difference between interpreted and compiled languages\n",
        "\n",
        "Interpreted languages are executed line-by-line by an interpreter (e.g., Python), while compiled languages are translated into machine code by a compiler before running (e.g., C++)."
      ],
      "id": "QHQeEBStICew"
    },
    {
      "cell_type": "markdown",
      "metadata": {
        "id": "YE-ThhKYICex"
      },
      "source": [
        "###2. What is exception handling in Python\n",
        "\n",
        "Exception handling allows a program to catch and manage runtime errors using try-except blocks."
      ],
      "id": "YE-ThhKYICex"
    },
    {
      "cell_type": "markdown",
      "metadata": {
        "id": "0JMkDzlHICex"
      },
      "source": [
        "###3. What is the purpose of the finally block in exception handling\n",
        "\n",
        "The finally block is executed no matter what, whether an exception occurs or not. It is often used for cleanup actions."
      ],
      "id": "0JMkDzlHICex"
    },
    {
      "cell_type": "markdown",
      "metadata": {
        "id": "8hzgfoUKICey"
      },
      "source": [
        "###4. What is logging in Python\n",
        "\n",
        "Logging is used to track events that happen when the software runs. It helps in debugging and understanding the flow of execution."
      ],
      "id": "8hzgfoUKICey"
    },
    {
      "cell_type": "markdown",
      "metadata": {
        "id": "gtMd4izZICey"
      },
      "source": [
        "###5. What is the significance of the __del__ method in Python\n",
        "\n",
        "`__del__` is a destructor method called when an object is about to be destroyed to free up resources."
      ],
      "id": "gtMd4izZICey"
    },
    {
      "cell_type": "markdown",
      "metadata": {
        "id": "J0AeETdAICez"
      },
      "source": [
        "###6. What is the difference between import and from ... import in Python\n",
        "\n",
        "`import module` brings the whole module in, while `from module import name` brings in specific components."
      ],
      "id": "J0AeETdAICez"
    },
    {
      "cell_type": "markdown",
      "metadata": {
        "id": "ckqafDfuICez"
      },
      "source": [
        "###7. How can you handle multiple exceptions in Python\n",
        "\n",
        "You can use multiple except blocks or a single except block with a tuple of exceptions."
      ],
      "id": "ckqafDfuICez"
    },
    {
      "cell_type": "markdown",
      "metadata": {
        "id": "vaJd4w_GICe0"
      },
      "source": [
        "###8. What is the purpose of the with statement when handling files in Python\n",
        "\n",
        "It ensures that the file is properly closed after its suite finishes, even if an exception is raised."
      ],
      "id": "vaJd4w_GICe0"
    },
    {
      "cell_type": "markdown",
      "metadata": {
        "id": "QDRTW05fICe0"
      },
      "source": [
        "###9. What is the difference between multithreading and multiprocessing\n",
        "\n",
        "Multithreading runs threads within the same process, sharing memory. Multiprocessing runs separate processes with independent memory."
      ],
      "id": "QDRTW05fICe0"
    },
    {
      "cell_type": "markdown",
      "metadata": {
        "id": "Lna9UGf6ICe1"
      },
      "source": [
        "###10. What are the advantages of using logging in a program\n",
        "\n",
        "Logging allows monitoring of applications, helps diagnose issues, and provides insights during execution."
      ],
      "id": "Lna9UGf6ICe1"
    },
    {
      "cell_type": "markdown",
      "metadata": {
        "id": "i1vhS93MICe2"
      },
      "source": [
        "###11. What is memory management in Python\n",
        "\n",
        "Python uses reference counting and garbage collection to manage memory automatically."
      ],
      "id": "i1vhS93MICe2"
    },
    {
      "cell_type": "markdown",
      "metadata": {
        "id": "1HQ72FodICe3"
      },
      "source": [
        "###12. What are the basic steps involved in exception handling in Python\n",
        "\n",
        "Use `try` to wrap code, `except` to handle exceptions, `else` to run if no error, and `finally` for cleanup."
      ],
      "id": "1HQ72FodICe3"
    },
    {
      "cell_type": "markdown",
      "metadata": {
        "id": "l5CP2wp0ICe3"
      },
      "source": [
        "###13. Why is memory management important in Python\n",
        "\n",
        "It ensures efficient use of memory resources, avoids leaks, and keeps applications performant."
      ],
      "id": "l5CP2wp0ICe3"
    },
    {
      "cell_type": "markdown",
      "metadata": {
        "id": "9qe_6iRPICe3"
      },
      "source": [
        "###14. What is the role of try and except in exception handling\n",
        "\n",
        "`try` contains code that might raise an exception, and `except` catches and handles it."
      ],
      "id": "9qe_6iRPICe3"
    },
    {
      "cell_type": "markdown",
      "metadata": {
        "id": "2KZViFgRICe3"
      },
      "source": [
        "###15. How does Python's garbage collection system work\n",
        "\n",
        "It uses reference counting and cyclic garbage collection to reclaim unused memory."
      ],
      "id": "2KZViFgRICe3"
    },
    {
      "cell_type": "markdown",
      "metadata": {
        "id": "rJnMhTvlICe3"
      },
      "source": [
        "###16. What is the purpose of the else block in exception handling\n",
        "\n",
        "The else block runs if no exceptions are raised in the try block."
      ],
      "id": "rJnMhTvlICe3"
    },
    {
      "cell_type": "markdown",
      "metadata": {
        "id": "kSdswzONICe4"
      },
      "source": [
        "### 17.What are the common logging levels in Python\n",
        "\n",
        "DEBUG, INFO, WARNING, ERROR, CRITICAL."
      ],
      "id": "kSdswzONICe4"
    },
    {
      "cell_type": "markdown",
      "metadata": {
        "id": "L4M05LJ1ICe4"
      },
      "source": [
        "###18. What is the difference between os.fork() and multiprocessing in Python\n",
        "\n",
        "`os.fork()` is Unix-specific; `multiprocessing` works cross-platform and provides a safer interface."
      ],
      "id": "L4M05LJ1ICe4"
    },
    {
      "cell_type": "markdown",
      "metadata": {
        "id": "MabMFV9RICe5"
      },
      "source": [
        "###19. What is the importance of closing a file in Python\n",
        "\n",
        "Closing a file ensures all data is written and resources are released."
      ],
      "id": "MabMFV9RICe5"
    },
    {
      "cell_type": "markdown",
      "metadata": {
        "id": "Ag8pRINQICe5"
      },
      "source": [
        "###20. What is the difference between file.read() and file.readline() in Python\n",
        "\n",
        "`read()` reads the entire content, `readline()` reads one line at a time."
      ],
      "id": "Ag8pRINQICe5"
    },
    {
      "cell_type": "markdown",
      "metadata": {
        "id": "WgTexRGtICe5"
      },
      "source": [
        "###21. What is the logging module in Python used for\n",
        "\n",
        "To write log messages that record program execution details."
      ],
      "id": "WgTexRGtICe5"
    },
    {
      "cell_type": "markdown",
      "metadata": {
        "id": "KHT4-dC0ICe6"
      },
      "source": [
        "###22. What is the os module in Python used for in file handling\n",
        "\n",
        "To interact with the operating system: file operations, paths, environment variables."
      ],
      "id": "KHT4-dC0ICe6"
    },
    {
      "cell_type": "markdown",
      "metadata": {
        "id": "A634sCbuICe6"
      },
      "source": [
        "###23. What are the challenges associated with memory management in Python\n",
        "\n",
        "Challenges include circular references, memory leaks from C extensions, and large objects."
      ],
      "id": "A634sCbuICe6"
    },
    {
      "cell_type": "markdown",
      "metadata": {
        "id": "syMKbOliICe6"
      },
      "source": [
        "###24. How do you raise an exception manually in Python\n",
        "\n",
        "Use `raise` followed by an exception, e.g., `raise ValueError('Invalid input')`."
      ],
      "id": "syMKbOliICe6"
    },
    {
      "cell_type": "markdown",
      "metadata": {
        "id": "X8dqka6iICe6"
      },
      "source": [
        "###25. Why is it important to use multithreading in certain applications?\n",
        "\n",
        "It helps improve performance in I/O-bound tasks by allowing concurrent execution."
      ],
      "id": "X8dqka6iICe6"
    },
    {
      "cell_type": "markdown",
      "source": [
        "#**Practical Questions**"
      ],
      "metadata": {
        "id": "co3Rj9sbIvyv"
      },
      "id": "co3Rj9sbIvyv"
    },
    {
      "cell_type": "code",
      "execution_count": 2,
      "metadata": {
        "id": "-jredkOhICe7"
      },
      "outputs": [],
      "source": [
        "# Open a file for writing and write a string\n",
        "with open('output.txt', 'w') as f:\n",
        "    f.write('Hello, world!')"
      ],
      "id": "-jredkOhICe7"
    },
    {
      "cell_type": "code",
      "execution_count": 3,
      "metadata": {
        "colab": {
          "base_uri": "https://localhost:8080/"
        },
        "id": "uGeQp73NICe8",
        "outputId": "3a45ec47-2db6-46b1-9f34-e26955ce53a8"
      },
      "outputs": [
        {
          "output_type": "stream",
          "name": "stdout",
          "text": [
            "Hello, world!\n"
          ]
        }
      ],
      "source": [
        "# Read and print each line of a file\n",
        "with open('output.txt', 'r') as f:\n",
        "    for line in f:\n",
        "        print(line.strip())"
      ],
      "id": "uGeQp73NICe8"
    },
    {
      "cell_type": "code",
      "execution_count": 4,
      "metadata": {
        "colab": {
          "base_uri": "https://localhost:8080/"
        },
        "id": "M5vV1y3aICe8",
        "outputId": "13982a7a-d269-4c22-bc6f-25bdc631015e"
      },
      "outputs": [
        {
          "output_type": "stream",
          "name": "stdout",
          "text": [
            "File not found.\n"
          ]
        }
      ],
      "source": [
        "# Handle file not found error\n",
        "try:\n",
        "    with open('missing.txt', 'r') as f:\n",
        "        content = f.read()\n",
        "except FileNotFoundError:\n",
        "    print('File not found.')"
      ],
      "id": "M5vV1y3aICe8"
    },
    {
      "cell_type": "code",
      "execution_count": 5,
      "metadata": {
        "colab": {
          "base_uri": "https://localhost:8080/",
          "height": 200
        },
        "id": "aYCF8ElZICe9",
        "outputId": "1c24396a-9d1f-43e3-b474-4af13506c462"
      },
      "outputs": [
        {
          "output_type": "error",
          "ename": "FileNotFoundError",
          "evalue": "[Errno 2] No such file or directory: 'input.txt'",
          "traceback": [
            "\u001b[0;31m---------------------------------------------------------------------------\u001b[0m",
            "\u001b[0;31mFileNotFoundError\u001b[0m                         Traceback (most recent call last)",
            "\u001b[0;32m/tmp/ipython-input-5-825073207.py\u001b[0m in \u001b[0;36m<cell line: 0>\u001b[0;34m()\u001b[0m\n\u001b[1;32m      1\u001b[0m \u001b[0;31m# Read from one file and write to another\u001b[0m\u001b[0;34m\u001b[0m\u001b[0;34m\u001b[0m\u001b[0m\n\u001b[0;32m----> 2\u001b[0;31m \u001b[0;32mwith\u001b[0m \u001b[0mopen\u001b[0m\u001b[0;34m(\u001b[0m\u001b[0;34m'input.txt'\u001b[0m\u001b[0;34m,\u001b[0m \u001b[0;34m'r'\u001b[0m\u001b[0;34m)\u001b[0m \u001b[0;32mas\u001b[0m \u001b[0mf1\u001b[0m\u001b[0;34m,\u001b[0m \u001b[0mopen\u001b[0m\u001b[0;34m(\u001b[0m\u001b[0;34m'copy.txt'\u001b[0m\u001b[0;34m,\u001b[0m \u001b[0;34m'w'\u001b[0m\u001b[0;34m)\u001b[0m \u001b[0;32mas\u001b[0m \u001b[0mf2\u001b[0m\u001b[0;34m:\u001b[0m\u001b[0;34m\u001b[0m\u001b[0;34m\u001b[0m\u001b[0m\n\u001b[0m\u001b[1;32m      3\u001b[0m     \u001b[0;32mfor\u001b[0m \u001b[0mline\u001b[0m \u001b[0;32min\u001b[0m \u001b[0mf1\u001b[0m\u001b[0;34m:\u001b[0m\u001b[0;34m\u001b[0m\u001b[0;34m\u001b[0m\u001b[0m\n\u001b[1;32m      4\u001b[0m         \u001b[0mf2\u001b[0m\u001b[0;34m.\u001b[0m\u001b[0mwrite\u001b[0m\u001b[0;34m(\u001b[0m\u001b[0mline\u001b[0m\u001b[0;34m)\u001b[0m\u001b[0;34m\u001b[0m\u001b[0;34m\u001b[0m\u001b[0m\n",
            "\u001b[0;31mFileNotFoundError\u001b[0m: [Errno 2] No such file or directory: 'input.txt'"
          ]
        }
      ],
      "source": [
        "# Read from one file and write to another\n",
        "with open('input.txt', 'r') as f1, open('copy.txt', 'w') as f2:\n",
        "    for line in f1:\n",
        "        f2.write(line)"
      ],
      "id": "aYCF8ElZICe9"
    },
    {
      "cell_type": "code",
      "execution_count": 6,
      "metadata": {
        "colab": {
          "base_uri": "https://localhost:8080/"
        },
        "id": "sjmYqnp_ICe9",
        "outputId": "80a18781-84be-4c41-eac6-64f4b77e0701"
      },
      "outputs": [
        {
          "output_type": "stream",
          "name": "stdout",
          "text": [
            "Cannot divide by zero.\n"
          ]
        }
      ],
      "source": [
        "# Handle division by zero\n",
        "try:\n",
        "    result = 10 / 0\n",
        "except ZeroDivisionError:\n",
        "    print('Cannot divide by zero.')"
      ],
      "id": "sjmYqnp_ICe9"
    },
    {
      "cell_type": "code",
      "execution_count": 7,
      "metadata": {
        "colab": {
          "base_uri": "https://localhost:8080/"
        },
        "id": "0ooQXJ5jICe9",
        "outputId": "14a53d86-6dcc-44a7-8e81-4db81eef1471"
      },
      "outputs": [
        {
          "output_type": "stream",
          "name": "stderr",
          "text": [
            "ERROR:root:Error: division by zero\n"
          ]
        }
      ],
      "source": [
        "# Log error on division by zero\n",
        "import logging\n",
        "logging.basicConfig(filename='app.log', level=logging.ERROR)\n",
        "try:\n",
        "    x = 1 / 0\n",
        "except ZeroDivisionError as e:\n",
        "    logging.error(f\"Error: {e}\")"
      ],
      "id": "0ooQXJ5jICe9"
    },
    {
      "cell_type": "code",
      "execution_count": 8,
      "metadata": {
        "colab": {
          "base_uri": "https://localhost:8080/"
        },
        "id": "SpjrvAHHICe9",
        "outputId": "1af236d0-2c2a-4830-d83f-67f3df3e0025"
      },
      "outputs": [
        {
          "output_type": "stream",
          "name": "stderr",
          "text": [
            "WARNING:root:Warning message\n",
            "ERROR:root:Error message\n"
          ]
        }
      ],
      "source": [
        "# Log at INFO, WARNING, and ERROR levels\n",
        "import logging\n",
        "logging.basicConfig(level=logging.DEBUG)\n",
        "logging.info('Info message')\n",
        "logging.warning('Warning message')\n",
        "logging.error('Error message')"
      ],
      "id": "SpjrvAHHICe9"
    },
    {
      "cell_type": "code",
      "execution_count": 9,
      "metadata": {
        "colab": {
          "base_uri": "https://localhost:8080/"
        },
        "id": "mh6SHbv8ICe-",
        "outputId": "e1f45919-b185-4728-beb6-c6d04483b2e7"
      },
      "outputs": [
        {
          "output_type": "stream",
          "name": "stdout",
          "text": [
            "File open error\n"
          ]
        }
      ],
      "source": [
        "# Handle file open error with exception\n",
        "try:\n",
        "    open('nonexistent.txt')\n",
        "except IOError:\n",
        "    print('File open error')"
      ],
      "id": "mh6SHbv8ICe-"
    },
    {
      "cell_type": "code",
      "execution_count": 10,
      "metadata": {
        "colab": {
          "base_uri": "https://localhost:8080/"
        },
        "id": "lLUwGT7_ICe-",
        "outputId": "679e747f-d511-458b-f840-d192127a4eb4"
      },
      "outputs": [
        {
          "output_type": "stream",
          "name": "stdout",
          "text": [
            "['Hello, world!']\n"
          ]
        }
      ],
      "source": [
        "# Read file into list\n",
        "with open('output.txt', 'r') as f:\n",
        "    lines = f.readlines()\n",
        "    print(lines)"
      ],
      "id": "lLUwGT7_ICe-"
    },
    {
      "cell_type": "code",
      "execution_count": 11,
      "metadata": {
        "id": "auckUI9rICe-"
      },
      "outputs": [],
      "source": [
        "# Append to file\n",
        "with open('output.txt', 'a') as f:\n",
        "    f.write('\\nAppended line')"
      ],
      "id": "auckUI9rICe-"
    },
    {
      "cell_type": "code",
      "execution_count": 12,
      "metadata": {
        "colab": {
          "base_uri": "https://localhost:8080/"
        },
        "id": "tx11RLbMICe_",
        "outputId": "45e87a34-71ae-43e5-d136-a0acd41e8154"
      },
      "outputs": [
        {
          "output_type": "stream",
          "name": "stdout",
          "text": [
            "Key not found\n"
          ]
        }
      ],
      "source": [
        "# Handle missing dictionary key\n",
        "data = {'a': 1}\n",
        "try:\n",
        "    print(data['b'])\n",
        "except KeyError:\n",
        "    print('Key not found')"
      ],
      "id": "tx11RLbMICe_"
    },
    {
      "cell_type": "code",
      "execution_count": 13,
      "metadata": {
        "colab": {
          "base_uri": "https://localhost:8080/"
        },
        "id": "_vODqxhVICe_",
        "outputId": "39b81810-830b-472d-e545-ce2887e00ae6"
      },
      "outputs": [
        {
          "output_type": "stream",
          "name": "stdout",
          "text": [
            "Division error\n"
          ]
        }
      ],
      "source": [
        "# Handle multiple exceptions\n",
        "try:\n",
        "    a = 1 / 0\n",
        "    b = [1,2]\n",
        "    print(b[5])\n",
        "except ZeroDivisionError:\n",
        "    print('Division error')\n",
        "except IndexError:\n",
        "    print('Index error')"
      ],
      "id": "_vODqxhVICe_"
    },
    {
      "cell_type": "code",
      "execution_count": 14,
      "metadata": {
        "colab": {
          "base_uri": "https://localhost:8080/"
        },
        "id": "vgLrJ3FZICe_",
        "outputId": "3976e9c4-7df6-4198-8fa8-95af5a5fa128"
      },
      "outputs": [
        {
          "output_type": "stream",
          "name": "stdout",
          "text": [
            "File exists\n"
          ]
        }
      ],
      "source": [
        "# Check if file exists\n",
        "import os\n",
        "if os.path.exists('output.txt'):\n",
        "    print('File exists')"
      ],
      "id": "vgLrJ3FZICe_"
    },
    {
      "cell_type": "code",
      "execution_count": 15,
      "metadata": {
        "colab": {
          "base_uri": "https://localhost:8080/"
        },
        "id": "B6nvo6lPICfK",
        "outputId": "7010c8b7-1fa0-4e52-9a21-45f04f55780c"
      },
      "outputs": [
        {
          "output_type": "stream",
          "name": "stderr",
          "text": [
            "ERROR:root:Error logged\n"
          ]
        }
      ],
      "source": [
        "# Log info and error\n",
        "import logging\n",
        "logging.basicConfig(filename='example.log', level=logging.DEBUG)\n",
        "logging.info('Info logged')\n",
        "logging.error('Error logged')"
      ],
      "id": "B6nvo6lPICfK"
    },
    {
      "cell_type": "code",
      "execution_count": 16,
      "metadata": {
        "colab": {
          "base_uri": "https://localhost:8080/"
        },
        "id": "L85IO1c_ICfK",
        "outputId": "68d34fed-26c9-466d-dcbc-3fb399238755"
      },
      "outputs": [
        {
          "output_type": "stream",
          "name": "stdout",
          "text": [
            "Hello, world!\n",
            "Appended line\n"
          ]
        }
      ],
      "source": [
        "# Print content and handle empty file\n",
        "with open('output.txt', 'r') as f:\n",
        "    content = f.read()\n",
        "    if content:\n",
        "        print(content)\n",
        "    else:\n",
        "        print('File is empty')"
      ],
      "id": "L85IO1c_ICfK"
    },
    {
      "cell_type": "code",
      "execution_count": 17,
      "metadata": {
        "colab": {
          "base_uri": "https://localhost:8080/",
          "height": 399
        },
        "id": "PSQ44ej1ICfL",
        "outputId": "3a7ed60b-5240-40ab-c832-69a096807109"
      },
      "outputs": [
        {
          "output_type": "error",
          "ename": "ModuleNotFoundError",
          "evalue": "No module named 'memory_profiler'",
          "traceback": [
            "\u001b[0;31m---------------------------------------------------------------------------\u001b[0m",
            "\u001b[0;31mModuleNotFoundError\u001b[0m                       Traceback (most recent call last)",
            "\u001b[0;32m/tmp/ipython-input-17-1791793368.py\u001b[0m in \u001b[0;36m<cell line: 0>\u001b[0;34m()\u001b[0m\n\u001b[1;32m      1\u001b[0m \u001b[0;31m# Memory profiling with memory_profiler\u001b[0m\u001b[0;34m\u001b[0m\u001b[0;34m\u001b[0m\u001b[0m\n\u001b[1;32m      2\u001b[0m \u001b[0;31m# pip install memory_profiler\u001b[0m\u001b[0;34m\u001b[0m\u001b[0;34m\u001b[0m\u001b[0m\n\u001b[0;32m----> 3\u001b[0;31m \u001b[0;32mfrom\u001b[0m \u001b[0mmemory_profiler\u001b[0m \u001b[0;32mimport\u001b[0m \u001b[0mprofile\u001b[0m\u001b[0;34m\u001b[0m\u001b[0;34m\u001b[0m\u001b[0m\n\u001b[0m\u001b[1;32m      4\u001b[0m \u001b[0;34m\u001b[0m\u001b[0m\n\u001b[1;32m      5\u001b[0m \u001b[0;34m@\u001b[0m\u001b[0mprofile\u001b[0m\u001b[0;34m\u001b[0m\u001b[0;34m\u001b[0m\u001b[0m\n",
            "\u001b[0;31mModuleNotFoundError\u001b[0m: No module named 'memory_profiler'",
            "",
            "\u001b[0;31m---------------------------------------------------------------------------\u001b[0;32m\nNOTE: If your import is failing due to a missing package, you can\nmanually install dependencies using either !pip or !apt.\n\nTo view examples of installing some common dependencies, click the\n\"Open Examples\" button below.\n\u001b[0;31m---------------------------------------------------------------------------\u001b[0m\n"
          ],
          "errorDetails": {
            "actions": [
              {
                "action": "open_url",
                "actionText": "Open Examples",
                "url": "/notebooks/snippets/importing_libraries.ipynb"
              }
            ]
          }
        }
      ],
      "source": [
        "# Memory profiling with memory_profiler\n",
        "# pip install memory_profiler\n",
        "from memory_profiler import profile\n",
        "\n",
        "@profile\n",
        "def my_func():\n",
        "    a = [i for i in range(100000)]\n",
        "    return a\n",
        "\n",
        "my_func()"
      ],
      "id": "PSQ44ej1ICfL"
    },
    {
      "cell_type": "code",
      "execution_count": 18,
      "metadata": {
        "id": "LN1kzr6-ICfL"
      },
      "outputs": [],
      "source": [
        "# Write numbers to file\n",
        "with open('numbers.txt', 'w') as f:\n",
        "    for i in range(1, 11):\n",
        "        f.write(f'{i}\\n')"
      ],
      "id": "LN1kzr6-ICfL"
    },
    {
      "cell_type": "code",
      "execution_count": 19,
      "metadata": {
        "id": "P_y6pSeuICfL"
      },
      "outputs": [],
      "source": [
        "# Rotating file logging\n",
        "import logging\n",
        "from logging.handlers import RotatingFileHandler\n",
        "handler = RotatingFileHandler('app.log', maxBytes=1024*1024, backupCount=3)\n",
        "logging.basicConfig(handlers=[handler], level=logging.INFO)\n",
        "logging.info('Rotating log setup')"
      ],
      "id": "P_y6pSeuICfL"
    },
    {
      "cell_type": "code",
      "execution_count": 20,
      "metadata": {
        "colab": {
          "base_uri": "https://localhost:8080/"
        },
        "id": "THsNdcJFICfM",
        "outputId": "3c1c3e53-df2d-4c35-84a6-24f04d2a102a"
      },
      "outputs": [
        {
          "output_type": "stream",
          "name": "stdout",
          "text": [
            "Index error\n"
          ]
        }
      ],
      "source": [
        "# Handle IndexError and KeyError\n",
        "try:\n",
        "    l = [1]\n",
        "    print(l[2])\n",
        "    d = {}\n",
        "    print(d['x'])\n",
        "except IndexError:\n",
        "    print('Index error')\n",
        "except KeyError:\n",
        "    print('Key error')"
      ],
      "id": "THsNdcJFICfM"
    },
    {
      "cell_type": "code",
      "execution_count": 21,
      "metadata": {
        "colab": {
          "base_uri": "https://localhost:8080/"
        },
        "id": "5b09ciiJICfM",
        "outputId": "6b52a072-61d0-47f0-ba91-b337909e5047"
      },
      "outputs": [
        {
          "output_type": "stream",
          "name": "stdout",
          "text": [
            "Hello, world!\n",
            "Appended line\n"
          ]
        }
      ],
      "source": [
        "# Context manager to read file\n",
        "with open('output.txt', 'r') as f:\n",
        "    print(f.read())"
      ],
      "id": "5b09ciiJICfM"
    },
    {
      "cell_type": "code",
      "execution_count": 22,
      "metadata": {
        "colab": {
          "base_uri": "https://localhost:8080/"
        },
        "id": "IjHePlWrICfM",
        "outputId": "1da82fde-2e8a-4ea9-ac41-755f2fb56cf6"
      },
      "outputs": [
        {
          "output_type": "stream",
          "name": "stdout",
          "text": [
            "0\n"
          ]
        }
      ],
      "source": [
        "# Read file and count word\n",
        "word = 'Python'\n",
        "with open('output.txt', 'r') as f:\n",
        "    content = f.read()\n",
        "    print(content.count(word))"
      ],
      "id": "IjHePlWrICfM"
    },
    {
      "cell_type": "code",
      "execution_count": 23,
      "metadata": {
        "id": "aKKiey6NICfM"
      },
      "outputs": [],
      "source": [
        "# Check if file is empty\n",
        "import os\n",
        "if os.stat('output.txt').st_size == 0:\n",
        "    print('Empty file')"
      ],
      "id": "aKKiey6NICfM"
    },
    {
      "cell_type": "code",
      "execution_count": 24,
      "metadata": {
        "colab": {
          "base_uri": "https://localhost:8080/"
        },
        "id": "PUGfPjBVICfM",
        "outputId": "87546b88-0edc-4472-f77c-6219d77aeeb3"
      },
      "outputs": [
        {
          "output_type": "stream",
          "name": "stderr",
          "text": [
            "ERROR:root:Error: [Errno 2] No such file or directory: 'missing.txt'\n"
          ]
        }
      ],
      "source": [
        "# Log on file handling error\n",
        "import logging\n",
        "logging.basicConfig(filename='error.log', level=logging.ERROR)\n",
        "try:\n",
        "    open('missing.txt')\n",
        "except Exception as e:\n",
        "    logging.error(f'Error: {e}')"
      ],
      "id": "PUGfPjBVICfM"
    },
    {
      "cell_type": "code",
      "source": [],
      "metadata": {
        "id": "Wndd-MkYKf2D"
      },
      "id": "Wndd-MkYKf2D",
      "execution_count": null,
      "outputs": []
    }
  ],
  "metadata": {
    "kernelspec": {
      "display_name": "Python 3",
      "language": "python",
      "name": "python3"
    },
    "language_info": {
      "name": "python",
      "version": "3.10"
    },
    "colab": {
      "provenance": []
    }
  },
  "nbformat": 4,
  "nbformat_minor": 5
}